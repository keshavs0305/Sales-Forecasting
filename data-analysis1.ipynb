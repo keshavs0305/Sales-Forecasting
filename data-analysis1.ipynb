{
 "cells": [
  {
   "cell_type": "code",
   "execution_count": 1,
   "id": "ece6f2cc",
   "metadata": {},
   "outputs": [
    {
     "name": "stdout",
     "output_type": "stream",
     "text": [
      "Collecting xgboost\n",
      "  Downloading xgboost-1.4.2-py3-none-manylinux2010_x86_64.whl (166.7 MB)\n",
      "\u001b[K     |████████████████████████████████| 166.7 MB 14 kB/s /s eta 0:00:01   |████████████▏                   | 63.5 MB 35.5 MB/s eta 0:00:03\n",
      "\u001b[?25hRequirement already satisfied: numpy in /home/ec2-user/anaconda3/envs/python3/lib/python3.6/site-packages (from xgboost) (1.19.5)\n",
      "Requirement already satisfied: scipy in /home/ec2-user/anaconda3/envs/python3/lib/python3.6/site-packages (from xgboost) (1.5.3)\n",
      "Installing collected packages: xgboost\n",
      "Successfully installed xgboost-1.4.2\n"
     ]
    }
   ],
   "source": [
    "# !pip install keras\n",
    "# !pip install tensorflow\n",
    "!pip install xgboost"
   ]
  },
  {
   "cell_type": "code",
   "execution_count": 2,
   "id": "0d4975f0",
   "metadata": {},
   "outputs": [],
   "source": [
    "import pandas as pd\n",
    "import numpy as np\n",
    "import matplotlib.pyplot as plt\n",
    "from sklearn import preprocessing\n",
    "from sklearn.metrics import mean_squared_error\n",
    "import xgboost as xgb\n",
    "from sklearn.preprocessing import OneHotEncoder\n",
    "from sklearn.preprocessing import StandardScaler\n",
    "from sklearn.linear_model import LinearRegression\n",
    "from sklearn.ensemble import RandomForestRegressor\n",
    "from sklearn.svm import SVR\n",
    "from sklearn.neighbors import KNeighborsRegressor\n",
    "from sklearn.model_selection import GridSearchCV\n",
    "import warnings\n",
    "warnings.filterwarnings(\"ignore\")"
   ]
  },
  {
   "cell_type": "code",
   "execution_count": 3,
   "id": "8532c5f4",
   "metadata": {},
   "outputs": [],
   "source": [
    "xls = pd.ExcelFile('2 years data before 29-09-2021.xlsm',engine='openpyxl')\n",
    "df1 = pd.read_excel(xls, '2 years data before 29-09-2021')\n",
    "df2 = pd.read_excel(xls, 'Price increase dates')\n",
    "df3 = pd.read_excel(xls, 'Mandatory vacation dates',names=['start','end'])\n",
    "\n",
    "df1 = df1.iloc[:245815]\n",
    "df2.dropna(axis=1,inplace=True)\n",
    "df3.dropna(inplace=True)\n",
    "df3.drop([0],inplace=True)\n",
    "df1.drop(['Order nº','Custumer Name','Item Name','Subgroup_description'],axis=1,inplace=True)\n",
    "df2.drop(['Subgroup of products (description)'],axis=1,inplace=True)\n",
    "\n",
    "le = preprocessing.LabelEncoder()\n",
    "for col in ['Country','State','City']:\n",
    "    df1[col] = le.fit_transform(df1[[col]])\n",
    "df = df1.groupby(['Order date','Custumer Id','Item Id','Country','State','City','Subgruop_ID']).mean().reset_index()"
   ]
  },
  {
   "cell_type": "markdown",
   "id": "8b4036b2",
   "metadata": {},
   "source": [
    "## recency, frequency, next_buy\n",
    "### price_increase_30, is_vacation, vacation_30"
   ]
  },
  {
   "cell_type": "code",
   "execution_count": 4,
   "id": "a84875ce",
   "metadata": {},
   "outputs": [],
   "source": [
    "def time_series_bin(right,col):\n",
    "\n",
    "    ret = pd.DataFrame(pd.date_range(df['Order date'].min(),df['Order date'].max(),freq='d'),columns=['Date'])\n",
    "    try:\n",
    "        new_data = pd.merge(ret,right,left_on='Date',right_on=col,how='outer')\n",
    "    except:\n",
    "        new_data = pd.concat(ret,right,axis=1,join=\"outer\",)\n",
    "    new_data['ret']= new_data[col].isna()==0\n",
    "    new_data['ret'].replace({True:1,False:0},inplace=True)\n",
    "    return new_data['ret']"
   ]
  },
  {
   "cell_type": "code",
   "execution_count": 5,
   "id": "6b645a47",
   "metadata": {},
   "outputs": [],
   "source": [
    "def recency(dfr,cusid):\n",
    "    t_ = time_series_bin(dfr.loc[dfr['Custumer Id']==cusid][['Order date']].drop_duplicates(),'Order date')\n",
    "    t = np.where(t_.to_numpy()==1)[0]\n",
    "    t1 = [t[i]-t[i+1] for i in range(len(t)-1)]\n",
    "    tt = [0-t[0]]\n",
    "    [tt.append(i) for i in t1]\n",
    "    tt.append(t[-1]-len(t_))\n",
    "\n",
    "    data = []\n",
    "    for rec in tt :\n",
    "        [data.append(_) for _ in range(abs(rec))]\n",
    "\n",
    "    return data"
   ]
  },
  {
   "cell_type": "code",
   "execution_count": 6,
   "id": "e1e18bed",
   "metadata": {},
   "outputs": [],
   "source": [
    "def buy_freq(dfr,cusid):\n",
    "    t = time_series_bin(dfr.loc[dfr['Custumer Id']==cusid][['Order date']].drop_duplicates(),'Order date')\n",
    "    ret = [0]\n",
    "    [ret.append(t[:i+1].mean()) for i in range(len(t)-1)]\n",
    "    \n",
    "    return ret"
   ]
  },
  {
   "cell_type": "code",
   "execution_count": 7,
   "id": "ecd91a4c",
   "metadata": {},
   "outputs": [],
   "source": [
    "def price_inc_30(df,df2):\n",
    "    df2 = pd.read_excel(xls, 'Price increase dates')\n",
    "    df2.dropna(axis=1,inplace=True)\n",
    "    df2.drop(['Subgroup of products (description)'],axis=1,inplace=True)\n",
    "    df2 = pd.concat([df2[['Date of price increase']]\n",
    "                     ,pd.DataFrame.sparse.from_spmatrix((OneHotEncoder().fit_transform(df2.drop(['Date of price increase']\n",
    "                                                                                                ,axis=1))))\n",
    "                    ]\n",
    "                    ,axis=1)\n",
    "    df2 = df2.groupby(['Date of price increase']).sum()\n",
    "\n",
    "    x = pd.DataFrame(index=pd.date_range(df['Order date'].min(),df['Order date'].max(),freq='d'))\n",
    "    x = pd.concat([x,df2],join=\"outer\",axis=1,)\n",
    "    x.fillna(0,inplace=True)\n",
    "    x.reset_index().drop(['index'],axis=1,inplace=True)\n",
    "\n",
    "    return x"
   ]
  },
  {
   "cell_type": "code",
   "execution_count": 8,
   "id": "ba77c92c",
   "metadata": {},
   "outputs": [],
   "source": [
    "def check_next_n(dfp,n):\n",
    "    for col in dfp.columns:\n",
    "        x = np.where(dfp[col].to_numpy()==1)\n",
    "        x = x[0]\n",
    "        ar = [0 for _ in range(x[0]-n)]\n",
    "        for i in range(1,n+1):\n",
    "            ar.append(i)\n",
    "        for i in range(x[1]-x[0]-n):\n",
    "            ar.append(0)\n",
    "        for i in range(1,n+1):\n",
    "            ar.append(i)\n",
    "        for i in range(x[2]-x[1]-n):\n",
    "            ar.append(0)\n",
    "        for i in range(1,n+1):\n",
    "            ar.append(i)\n",
    "        for i in range(len(dfp[col])-len(ar)):\n",
    "            ar.append(0)\n",
    "        dfp[col] = ar\n",
    "    return dfp"
   ]
  },
  {
   "cell_type": "code",
   "execution_count": 9,
   "id": "2bf79863",
   "metadata": {},
   "outputs": [],
   "source": [
    "def next_buy(dfr,cusid):\n",
    "    t_ = time_series_bin(dfr.loc[dfr['Custumer Id']==cusid][['Order date']].drop_duplicates(),'Order date')\n",
    "    t = np.where(t_.to_numpy()==1)[0]\n",
    "    t1 = [t[i+1]-t[i] for i in range(len(t)-1)]\n",
    "    t2 = []\n",
    "    tt = [t[0]]\n",
    "    [tt.append(i) for i in t1]\n",
    "    tt.append(len(t_)-t[-1])\n",
    "    \n",
    "    for i in range(len(tt)-1):\n",
    "        for j in range(tt[i]):\n",
    "            t2.append(tt[i]-j-1)\n",
    "    \n",
    "    x = len(t_)-len(t2)\n",
    "    for i in range(len(t_)-len(t2)):\n",
    "        t2.append(90)\n",
    "    return(t2,x)"
   ]
  },
  {
   "cell_type": "code",
   "execution_count": 14,
   "id": "02cfc9fa",
   "metadata": {},
   "outputs": [],
   "source": [
    "def data_cus(df1,df2,cusid):\n",
    "    ret = pd.DataFrame()\n",
    "    ret['recency'] = recency(df1,cusid)\n",
    "\n",
    "    ret['buy_freq'] = buy_freq(df1,cusid)\n",
    "    dft = check_next_n(price_inc_30(df1,df2),30)\n",
    "    for col in dft.columns:\n",
    "        ret['price_inc_'+str(col)] = list(dft[col])\n",
    "    a,b = next_buy(df1,cusid)\n",
    "\n",
    "    ret['next_buy'],n = next_buy(df1,cusid)\n",
    "\n",
    "    return ret,n"
   ]
  },
  {
   "cell_type": "code",
   "execution_count": 15,
   "id": "aa98e3f6",
   "metadata": {},
   "outputs": [],
   "source": [
    "def new_data(cusid):\n",
    "    t,n = data_cus(df,df2,cusid)\n",
    "    recency = t.recency.values[-1]+1\n",
    "    buy_freq = t.buy_freq.values[-1]*len(t)/(len(t)+1)\n",
    "    return([recency, buy_freq] + [0 for _ in range(10)] + [0])"
   ]
  },
  {
   "cell_type": "code",
   "execution_count": null,
   "id": "92d2f91c",
   "metadata": {},
   "outputs": [],
   "source": []
  },
  {
   "cell_type": "code",
   "execution_count": null,
   "id": "b514f377",
   "metadata": {},
   "outputs": [],
   "source": []
  },
  {
   "cell_type": "code",
   "execution_count": null,
   "id": "168faea3",
   "metadata": {},
   "outputs": [],
   "source": []
  },
  {
   "cell_type": "code",
   "execution_count": null,
   "id": "1c6eedfc",
   "metadata": {},
   "outputs": [],
   "source": []
  },
  {
   "cell_type": "code",
   "execution_count": 143,
   "id": "ce3d99f3",
   "metadata": {},
   "outputs": [],
   "source": [
    "def preds(cusid):\n",
    "    scale = StandardScaler()\n",
    "    data,n = data_cus(df,df2,cusid)\n",
    "    data = scale.fit_transform(data.head(len(data)-n))\n",
    "\n",
    "    #train, test = data[:round(len(data)*0.8)], data[round(len(data)*0.8):]\n",
    "    #x_train, x_test, y_train, y_test = train[:,:-1], test[:,:-1], train[:,-1], test[:,-1]\n",
    "\n",
    "    #model = SVR().fit(x_train, y_train)\n",
    "    #r1 = model.score(x_test, y_test)\n",
    "    #r2 = mean_squared_error(model.predict(x_test),y_test)\n",
    "\n",
    "#     pred = [np.append(x_test[i,:],model.predict(x_test[i,:].reshape(1,-1))) for i in range(len(x_test))]\n",
    "#     true = [np.append(x_test[i,:],y_test[i].reshape(1,-1)) for i in range(len(x_test))]\n",
    "#     plt.plot(scale.inverse_transform(pred)[:,-1],label='preds')\n",
    "#     plt.plot(scale.inverse_transform(true)[:,-1])\n",
    "#     plt.legend()\n",
    "#     plt.show()\n",
    "\n",
    "    model = SVR().fit(data[:,:-1],data[:,-1])\n",
    "    data,n = data_cus(df,df2,cusid)\n",
    "    pred = model.predict(scale.transform(data)[-1][:-1].reshape(1, -1))\n",
    "\n",
    "    r3 = scale.inverse_transform([0 for _ in range(12)] + [pred[0]])[-1]\n",
    "\n",
    "    return r3"
   ]
  },
  {
   "cell_type": "code",
   "execution_count": 148,
   "id": "157f4fd6",
   "metadata": {},
   "outputs": [],
   "source": [
    "pred = {'cusid':[],'pred':[]}\n",
    "for id_ in df['Custumer Id'].unique():\n",
    "    if id_ in [903]:\n",
    "        pred['cusid'].append(id_)\n",
    "        pred['pred'].append(np.nan)\n",
    "        continue\n",
    "    pred['cusid'].append(id_)\n",
    "    pred['pred'].append(preds(id_))\n",
    "#pred\n",
    "#pd.DataFrame(pred).to_csv('sample.csv',index=False)"
   ]
  },
  {
   "cell_type": "code",
   "execution_count": 149,
   "id": "6e29dc18",
   "metadata": {},
   "outputs": [
    {
     "data": {
      "text/html": [
       "<div>\n",
       "<style scoped>\n",
       "    .dataframe tbody tr th:only-of-type {\n",
       "        vertical-align: middle;\n",
       "    }\n",
       "\n",
       "    .dataframe tbody tr th {\n",
       "        vertical-align: top;\n",
       "    }\n",
       "\n",
       "    .dataframe thead th {\n",
       "        text-align: right;\n",
       "    }\n",
       "</style>\n",
       "<table border=\"1\" class=\"dataframe\">\n",
       "  <thead>\n",
       "    <tr style=\"text-align: right;\">\n",
       "      <th></th>\n",
       "      <th>cusid</th>\n",
       "      <th>pred</th>\n",
       "    </tr>\n",
       "  </thead>\n",
       "  <tbody>\n",
       "    <tr>\n",
       "      <th>218</th>\n",
       "      <td>887</td>\n",
       "      <td>1.467543</td>\n",
       "    </tr>\n",
       "  </tbody>\n",
       "</table>\n",
       "</div>"
      ],
      "text/plain": [
       "     cusid      pred\n",
       "218    887  1.467543"
      ]
     },
     "execution_count": 149,
     "metadata": {},
     "output_type": "execute_result"
    }
   ],
   "source": [
    "d = pd.DataFrame(pred)\n",
    "d.loc[d['cusid']==887]"
   ]
  },
  {
   "cell_type": "code",
   "execution_count": 150,
   "id": "8a554e0b",
   "metadata": {},
   "outputs": [],
   "source": [
    "pd.DataFrame(pred).to_csv('sample.csv',index=False)"
   ]
  },
  {
   "cell_type": "code",
   "execution_count": null,
   "id": "4be2753d",
   "metadata": {},
   "outputs": [],
   "source": []
  },
  {
   "cell_type": "code",
   "execution_count": null,
   "id": "94cf5306",
   "metadata": {},
   "outputs": [],
   "source": []
  },
  {
   "cell_type": "code",
   "execution_count": null,
   "id": "13e45809",
   "metadata": {},
   "outputs": [],
   "source": []
  },
  {
   "cell_type": "code",
   "execution_count": null,
   "id": "bd229f07",
   "metadata": {},
   "outputs": [],
   "source": []
  },
  {
   "cell_type": "code",
   "execution_count": 147,
   "id": "22ab897e",
   "metadata": {},
   "outputs": [],
   "source": [
    "def preds(cusid):\n",
    "    scale = StandardScaler()\n",
    "    data,n = data_cus(df,df2,cusid)\n",
    "    data = scale.fit_transform(data.head(len(data)-n))\n",
    "\n",
    "    #train, test = data[:round(len(data)*0.8)], data[round(len(data)*0.8):]\n",
    "    #x_train, x_test, y_train, y_test = train[:,:-1], test[:,:-1], train[:,-1], test[:,-1]\n",
    "\n",
    "    #model = SVR().fit(x_train, y_train)\n",
    "    #r1 = model.score(x_test, y_test)\n",
    "    #r2 = mean_squared_error(model.predict(x_test),y_test)\n",
    "\n",
    "#     pred = [np.append(x_test[i,:],model.predict(x_test[i,:].reshape(1,-1))) for i in range(len(x_test))]\n",
    "#     true = [np.append(x_test[i,:],y_test[i].reshape(1,-1)) for i in range(len(x_test))]\n",
    "#     plt.plot(scale.inverse_transform(pred)[:,-1],label='preds')\n",
    "#     plt.plot(scale.inverse_transform(true)[:,-1])\n",
    "#     plt.legend()\n",
    "#     plt.show()\n",
    "\n",
    "    #model = SVR().fit(data[:,:-1],data[:,-1])\n",
    "    model = xgb.XGBRegressor().fit(data[:,:-1],data[:,-1])\n",
    "    data,n = data_cus(df,df2,cusid)\n",
    "    pred = model.predict(scale.transform(data)[-1][:-1].reshape(1, -1))\n",
    "\n",
    "    r3 = scale.inverse_transform([0 for _ in range(12)] + [pred[0]])[-1]\n",
    "\n",
    "    return r3"
   ]
  },
  {
   "cell_type": "code",
   "execution_count": 151,
   "id": "2dcce8a3",
   "metadata": {},
   "outputs": [],
   "source": [
    "scale = StandardScaler()\n",
    "data,n = data_cus(df,df2,887)\n",
    "data = scale.fit_transform(data.head(n))\n",
    "\n",
    "train, test = data[:round(len(data)*0.6)], data[round(len(data)*0.6):]\n",
    "x_train, x_test, y_train, y_test = train[:,:-1], test[:,:-1], train[:,-1], test[:,-1]"
   ]
  },
  {
   "cell_type": "code",
   "execution_count": 152,
   "id": "c1ccbef9",
   "metadata": {},
   "outputs": [
    {
     "data": {
      "text/plain": [
       "XGBRegressor(base_score=0.5, booster='gbtree', colsample_bylevel=1,\n",
       "             colsample_bynode=1, colsample_bytree=1, gamma=0, gpu_id=-1,\n",
       "             importance_type='gain', interaction_constraints='',\n",
       "             learning_rate=0.300000012, max_delta_step=0, max_depth=6,\n",
       "             min_child_weight=1, missing=nan, monotone_constraints='()',\n",
       "             n_estimators=100, n_jobs=16, num_parallel_tree=1, random_state=0,\n",
       "             reg_alpha=0, reg_lambda=1, scale_pos_weight=1, subsample=1,\n",
       "             tree_method='exact', validate_parameters=1, verbosity=None)"
      ]
     },
     "execution_count": 152,
     "metadata": {},
     "output_type": "execute_result"
    }
   ],
   "source": [
    "xgb_ = xgb.XGBRegressor()\n",
    "xgb_.fit(x_train,y_train)"
   ]
  },
  {
   "cell_type": "code",
   "execution_count": 153,
   "id": "992fd16f",
   "metadata": {},
   "outputs": [
    {
     "data": {
      "text/plain": [
       "0.3532755763156459"
      ]
     },
     "execution_count": 153,
     "metadata": {},
     "output_type": "execute_result"
    }
   ],
   "source": [
    "xgb_.score(x_test,y_test)"
   ]
  },
  {
   "cell_type": "code",
   "execution_count": 154,
   "id": "8bfd7ddc",
   "metadata": {},
   "outputs": [
    {
     "ename": "AttributeError",
     "evalue": "module 'matplotlib.pyplot' has no attribute 'legends'",
     "output_type": "error",
     "traceback": [
      "\u001b[0;31m---------------------------------------------------------------------------\u001b[0m",
      "\u001b[0;31mAttributeError\u001b[0m                            Traceback (most recent call last)",
      "\u001b[0;32m<ipython-input-154-b23476805347>\u001b[0m in \u001b[0;36m<module>\u001b[0;34m\u001b[0m\n\u001b[1;32m      1\u001b[0m \u001b[0mplt\u001b[0m\u001b[0;34m.\u001b[0m\u001b[0mplot\u001b[0m\u001b[0;34m(\u001b[0m\u001b[0mxgb_\u001b[0m\u001b[0;34m.\u001b[0m\u001b[0mpredict\u001b[0m\u001b[0;34m(\u001b[0m\u001b[0mx_test\u001b[0m\u001b[0;34m)\u001b[0m\u001b[0;34m,\u001b[0m\u001b[0mlabel\u001b[0m\u001b[0;34m=\u001b[0m\u001b[0;34m'preds'\u001b[0m\u001b[0;34m)\u001b[0m\u001b[0;34m\u001b[0m\u001b[0;34m\u001b[0m\u001b[0m\n\u001b[1;32m      2\u001b[0m \u001b[0mplt\u001b[0m\u001b[0;34m.\u001b[0m\u001b[0mplot\u001b[0m\u001b[0;34m(\u001b[0m\u001b[0my_test\u001b[0m\u001b[0;34m)\u001b[0m\u001b[0;34m\u001b[0m\u001b[0;34m\u001b[0m\u001b[0m\n\u001b[0;32m----> 3\u001b[0;31m \u001b[0mplt\u001b[0m\u001b[0;34m.\u001b[0m\u001b[0mlegends\u001b[0m\u001b[0;34m(\u001b[0m\u001b[0;34m)\u001b[0m\u001b[0;34m\u001b[0m\u001b[0;34m\u001b[0m\u001b[0m\n\u001b[0m\u001b[1;32m      4\u001b[0m \u001b[0mplt\u001b[0m\u001b[0;34m.\u001b[0m\u001b[0mshow\u001b[0m\u001b[0;34m(\u001b[0m\u001b[0;34m)\u001b[0m\u001b[0;34m\u001b[0m\u001b[0;34m\u001b[0m\u001b[0m\n",
      "\u001b[0;31mAttributeError\u001b[0m: module 'matplotlib.pyplot' has no attribute 'legends'"
     ]
    },
    {
     "data": {
      "image/png": "[encoded data removed]",
      "text/plain": [
       "<Figure size 432x288 with 1 Axes>"
      ]
     },
     "metadata": {
      "needs_background": "light"
     },
     "output_type": "display_data"
    }
   ],
   "source": [
    "plt.plot(xgb_.predict(x_test),label='preds')\n",
    "plt.plot(y_test)\n",
    "plt.legends()\n",
    "plt.show()"
   ]
  },
  {
   "cell_type": "code",
   "execution_count": null,
   "id": "b8db0e20",
   "metadata": {},
   "outputs": [],
   "source": []
  },
  {
   "cell_type": "code",
   "execution_count": 155,
   "id": "7e06d6b7",
   "metadata": {},
   "outputs": [],
   "source": [
    "model = SVR().fit(x_train, y_train)\n",
    "r1 = model.score(x_test, y_test)\n",
    "r2 = mean_squared_error(model.predict(x_test),y_test)"
   ]
  },
  {
   "cell_type": "code",
   "execution_count": 156,
   "id": "f0293abe",
   "metadata": {},
   "outputs": [
    {
     "data": {
      "text/plain": [
       "(0.3794286880477973, 1.0179064850075812)"
      ]
     },
     "execution_count": 156,
     "metadata": {},
     "output_type": "execute_result"
    }
   ],
   "source": [
    "r1,r2"
   ]
  },
  {
   "cell_type": "code",
   "execution_count": 157,
   "id": "50a3307a",
   "metadata": {},
   "outputs": [
    {
     "ename": "AttributeError",
     "evalue": "module 'matplotlib.pyplot' has no attribute 'legends'",
     "output_type": "error",
     "traceback": [
      "\u001b[0;31m---------------------------------------------------------------------------\u001b[0m",
      "\u001b[0;31mAttributeError\u001b[0m                            Traceback (most recent call last)",
      "\u001b[0;32m<ipython-input-157-5aa473371dd8>\u001b[0m in \u001b[0;36m<module>\u001b[0;34m\u001b[0m\n\u001b[1;32m      1\u001b[0m \u001b[0mplt\u001b[0m\u001b[0;34m.\u001b[0m\u001b[0mplot\u001b[0m\u001b[0;34m(\u001b[0m\u001b[0mmodel\u001b[0m\u001b[0;34m.\u001b[0m\u001b[0mpredict\u001b[0m\u001b[0;34m(\u001b[0m\u001b[0mx_test\u001b[0m\u001b[0;34m)\u001b[0m\u001b[0;34m,\u001b[0m\u001b[0mlabel\u001b[0m\u001b[0;34m=\u001b[0m\u001b[0;34m'preds'\u001b[0m\u001b[0;34m)\u001b[0m\u001b[0;34m\u001b[0m\u001b[0;34m\u001b[0m\u001b[0m\n\u001b[1;32m      2\u001b[0m \u001b[0mplt\u001b[0m\u001b[0;34m.\u001b[0m\u001b[0mplot\u001b[0m\u001b[0;34m(\u001b[0m\u001b[0my_test\u001b[0m\u001b[0;34m)\u001b[0m\u001b[0;34m\u001b[0m\u001b[0;34m\u001b[0m\u001b[0m\n\u001b[0;32m----> 3\u001b[0;31m \u001b[0mplt\u001b[0m\u001b[0;34m.\u001b[0m\u001b[0mlegends\u001b[0m\u001b[0;34m\u001b[0m\u001b[0;34m\u001b[0m\u001b[0m\n\u001b[0m\u001b[1;32m      4\u001b[0m \u001b[0mplt\u001b[0m\u001b[0;34m.\u001b[0m\u001b[0mshow\u001b[0m\u001b[0;34m(\u001b[0m\u001b[0;34m)\u001b[0m\u001b[0;34m\u001b[0m\u001b[0;34m\u001b[0m\u001b[0m\n",
      "\u001b[0;31mAttributeError\u001b[0m: module 'matplotlib.pyplot' has no attribute 'legends'"
     ]
    },
    {
     "data": {
      "image/png": "[encoded data removed]",
      "text/plain": [
       "<Figure size 432x288 with 1 Axes>"
      ]
     },
     "metadata": {
      "needs_background": "light"
     },
     "output_type": "display_data"
    }
   ],
   "source": [
    "plt.plot(model.predict(x_test),label='preds')\n",
    "plt.plot(y_test)\n",
    "plt.legends\n",
    "plt.show()"
   ]
  },
  {
   "cell_type": "code",
   "execution_count": null,
   "id": "62481745",
   "metadata": {},
   "outputs": [],
   "source": []
  }
 ],
 "metadata": {
  "kernelspec": {
   "display_name": "conda_python3",
   "language": "python",
   "name": "conda_python3"
  },
  "language_info": {
   "codemirror_mode": {
    "name": "ipython",
    "version": 3
   },
   "file_extension": ".py",
   "mimetype": "text/x-python",
   "name": "python",
   "nbconvert_exporter": "python",
   "pygments_lexer": "ipython3",
   "version": "3.6.13"
  }
 },
 "nbformat": 4,
 "nbformat_minor": 5
}
