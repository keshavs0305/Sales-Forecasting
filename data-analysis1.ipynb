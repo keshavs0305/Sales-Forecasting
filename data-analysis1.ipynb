{
 "cells": [
  {
   "cell_type": "code",
   "execution_count": 1,
   "id": "e0166444",
   "metadata": {},
   "outputs": [
    {
     "name": "stdout",
     "output_type": "stream",
     "text": [
      "Requirement already satisfied: xgboost in /home/ec2-user/anaconda3/envs/python3/lib/python3.6/site-packages (1.4.2)\n",
      "Requirement already satisfied: numpy in /home/ec2-user/anaconda3/envs/python3/lib/python3.6/site-packages (from xgboost) (1.19.5)\n",
      "Requirement already satisfied: scipy in /home/ec2-user/anaconda3/envs/python3/lib/python3.6/site-packages (from xgboost) (1.5.3)\n"
     ]
    }
   ],
   "source": [
    "# !pip install keras\n",
    "# !pip install tensorflow\n",
    "!pip install xgboost"
   ]
  },
  {
   "cell_type": "code",
   "execution_count": 182,
   "id": "a7c6d0bc",
   "metadata": {},
   "outputs": [],
   "source": [
    "import pandas as pd\n",
    "import numpy as np\n",
    "import matplotlib.pyplot as plt\n",
    "from sklearn.metrics import mean_squared_error\n",
    "impoer xgboost as xgb\n",
    "from sklearn.preprocessing import OneHotEncoder\n",
    "from sklearn.preprocessing import StandardScaler\n",
    "from sklearn.linear_model import LinearRegression\n",
    "from sklearn.ensemble import RandomForestRegressor\n",
    "from sklearn.svm import SVR\n",
    "from sklearn.neighbors import KNeighborsRegressor\n",
    "from sklearn.model_selection import GridSearchCV\n",
    "import warnings\n",
    "warnings.filterwarnings(\"ignore\")"
   ]
  },
  {
   "cell_type": "code",
   "execution_count": 212,
   "id": "029b4ebd",
   "metadata": {},
   "outputs": [],
   "source": [
    "xls = pd.ExcelFile('2 years data before 29-09-2021.xlsm',engine='openpyxl')\n",
    "df1 = pd.read_excel(xls, '2 years data before 29-09-2021')\n",
    "df2 = pd.read_excel(xls, 'Price increase dates')\n",
    "df3 = pd.read_excel(xls, 'Mandatory vacation dates',names=['start','end'])\n",
    "\n",
    "df1 = df1.iloc[:245815]\n",
    "df2.dropna(axis=1,inplace=True)\n",
    "df3.dropna(inplace=True)\n",
    "df3.drop([0],inplace=True)\n",
    "df1.drop(['Order nº','Custumer Name','Item Name','Subgroup_description'],axis=1,inplace=True)\n",
    "df2.drop(['Subgroup of products (description)'],axis=1,inplace=True)\n",
    "\n",
    "le = preprocessing.LabelEncoder()\n",
    "for col in ['Country','State','City']:\n",
    "    df1[col] = le.fit_transform(df1[[col]])\n",
    "df = df1.groupby(['Order date','Custumer Id','Item Id','Country','State','City','Subgruop_ID']).mean().reset_index()"
   ]
  },
  {
   "cell_type": "markdown",
   "id": "c7f39ccc",
   "metadata": {},
   "source": [
    "## recency, frequency, next_buy\n",
    "### price_increase_30, is_vacation, vacation_30"
   ]
  },
  {
   "cell_type": "code",
   "execution_count": 213,
   "id": "55b0f293",
   "metadata": {},
   "outputs": [],
   "source": [
    "def time_series_bin(right,col):\n",
    "\n",
    "    ret = pd.DataFrame(pd.date_range(df['Order date'].min(),df['Order date'].max(),freq='d'),columns=['Date'])\n",
    "    try:\n",
    "        new_data = pd.merge(ret,right,left_on='Date',right_on=col,how='outer')\n",
    "    except:\n",
    "        new_data = pd.concat(ret,right,axis=1,join=\"outer\",)\n",
    "    new_data['ret']= new_data[col].isna()==0\n",
    "    new_data['ret'].replace({True:1,False:0},inplace=True)\n",
    "    return new_data['ret']"
   ]
  },
  {
   "cell_type": "code",
   "execution_count": 214,
   "id": "deb67abe",
   "metadata": {},
   "outputs": [],
   "source": [
    "def recency(dfr,cusid):\n",
    "    t_ = time_series_bin(dfr.loc[dfr['Custumer Id']==cusid][['Order date']].drop_duplicates(),'Order date')\n",
    "    t = np.where(t_.to_numpy()==1)[0]\n",
    "    t1 = [t[i]-t[i+1] for i in range(len(t)-1)]\n",
    "    tt = [0-t[0]]\n",
    "    [tt.append(i) for i in t1]\n",
    "    tt.append(t[-1]-len(t_))\n",
    "\n",
    "    data = []\n",
    "    for rec in tt :\n",
    "        [data.append(_) for _ in range(abs(rec))]\n",
    "\n",
    "    return data"
   ]
  },
  {
   "cell_type": "code",
   "execution_count": 215,
   "id": "36ab4fb6",
   "metadata": {},
   "outputs": [],
   "source": [
    "def buy_freq(dfr,cusid):\n",
    "    t = time_series_bin(dfr.loc[dfr['Custumer Id']==cusid][['Order date']].drop_duplicates(),'Order date')\n",
    "    ret = [0]\n",
    "    [ret.append(t[:i+1].mean()) for i in range(len(t)-1)]\n",
    "    \n",
    "    return ret"
   ]
  },
  {
   "cell_type": "code",
   "execution_count": 216,
   "id": "b5486002",
   "metadata": {},
   "outputs": [],
   "source": [
    "def price_inc_30(df2):\n",
    "    df2 = pd.read_excel(xls, 'Price increase dates')\n",
    "    df2.dropna(axis=1,inplace=True)\n",
    "    df2.drop(['Subgroup of products (description)'],axis=1,inplace=True)\n",
    "    df2 = pd.concat([df2[['Date of price increase']]\n",
    "                     ,pd.DataFrame.sparse.from_spmatrix((OneHotEncoder().fit_transform(df2.drop(['Date of price increase']\n",
    "                                                                                                ,axis=1))))\n",
    "                    ]\n",
    "                    ,axis=1)\n",
    "    df2 = df2.groupby(['Date of price increase']).sum()\n",
    "\n",
    "    x = pd.DataFrame(index=pd.date_range(df['Order date'].min(),df['Order date'].max(),freq='d'))\n",
    "    x = pd.concat([x,df2],join=\"outer\",axis=1,)\n",
    "    x.fillna(0,inplace=True)\n",
    "    return x.reset_index().drop(['index'],axis=1)"
   ]
  },
  {
   "cell_type": "code",
   "execution_count": 217,
   "id": "04670003",
   "metadata": {},
   "outputs": [],
   "source": [
    "def next_buy(dfr,cusid):\n",
    "    t_ = time_series_bin(dfr.loc[dfr['Custumer Id']==cusid][['Order date']].drop_duplicates(),'Order date')\n",
    "    t = np.where(t_.to_numpy()==1)[0]\n",
    "    t1 = [t[i+1]-t[i] for i in range(len(t)-1)]\n",
    "    t2 = []\n",
    "    tt = [t[0]]\n",
    "    [tt.append(i) for i in t1]\n",
    "    tt.append(len(t_)-t[-1])\n",
    "    \n",
    "    for i in range(len(tt)-1):\n",
    "        for j in range(tt[i]):\n",
    "            t2.append(tt[i]-j-1)\n",
    "    \n",
    "    for i in range(len(t_)-len(t2)):\n",
    "        t2.append(90)\n",
    "    return(t2)"
   ]
  },
  {
   "cell_type": "code",
   "execution_count": 218,
   "id": "a1022101",
   "metadata": {},
   "outputs": [],
   "source": [
    "def data_cus(df1,df2,cusid):\n",
    "    ret = pd.DataFrame()\n",
    "    ret['recency'] = recency(df1,cusid)\n",
    "    #print(ret)\n",
    "    ret['buy_freq'] = buy_freq(df1,cusid)\n",
    "    for col in price_inc_30(df2).columns:\n",
    "        ret['price_inc_'+str(col)] = price_inc_30(df2)[col]\n",
    "    ret['next_buy'] = next_buy(df1,cusid)\n",
    "    return ret"
   ]
  },
  {
   "cell_type": "code",
   "execution_count": null,
   "id": "6d78efac",
   "metadata": {},
   "outputs": [],
   "source": [
    "def new_data(cusid):\n",
    "    t = data_cus(df,df2,cusid)\n",
    "    recency = t.recency.values[-1]+1\n",
    "    buy_freq = t.buy_freq.values[-1]*len(t)/(len(t)+1)\n",
    "    return([recency, buy_freq] + [0 for _ in range(10)] + [0])"
   ]
  },
  {
   "cell_type": "code",
   "execution_count": 317,
   "id": "22dd7f1f",
   "metadata": {},
   "outputs": [],
   "source": [
    "def preds(cusid):\n",
    "    scale = StandardScaler()\n",
    "    data = scale.fit_transform(data_cus(df,df2,cusid))\n",
    "\n",
    "    train, test = data[:650], data[650:]\n",
    "    x_train, x_test, y_train, y_test = train[:,:-1], test[:,:-1], train[:,-1], test[:,-1]\n",
    "    model = SVR().fit(x_train, y_train)\n",
    "    r1 = model.score(x_test, y_test)\n",
    "    r2 = mean_squared_error(model.predict(x_test),y_test)\n",
    "\n",
    "#     pred = [np.append(x_test[i,:],model.predict(x_test[i,:].reshape(1,-1))) for i in range(len(x_test))]\n",
    "#     true = [np.append(x_test[i,:],y_test[i].reshape(1,-1)) for i in range(len(x_test))]\n",
    "#     plt.plot(scale.inverse_transform(pred)[:,-1],label='preds')\n",
    "#     plt.plot(scale.inverse_transform(true)[:,-1])\n",
    "#     plt.legend()\n",
    "#     plt.show()\n",
    "\n",
    "    model = SVR().fit(data[:,:-1],data[:,-1])\n",
    "    pred = model.predict(scale.transform(np.array(new_data(cusid)).reshape(1,-1))[:,:-1])\n",
    "\n",
    "    r3 = scale.inverse_transform([0 for _ in range(12)] + [pred[0]])[-1]\n",
    "\n",
    "    return r3"
   ]
  },
  {
   "cell_type": "code",
   "execution_count": null,
   "id": "27686557",
   "metadata": {},
   "outputs": [],
   "source": [
    "pred = {'cusid':[],'pred':[]}\n",
    "for id_ in df['Custumer Id'].unique():\n",
    "    pred['cusid'].append(id_)\n",
    "    pred['pred'].append(preds(id_))\n",
    "#pred\n",
    "pd.DataFrame(pred).to_csv('sample.csv',index=False)"
   ]
  },
  {
   "cell_type": "code",
   "execution_count": null,
   "id": "05b579fc",
   "metadata": {},
   "outputs": [],
   "source": []
  },
  {
   "cell_type": "code",
   "execution_count": null,
   "id": "94125194",
   "metadata": {},
   "outputs": [],
   "source": []
  },
  {
   "cell_type": "code",
   "execution_count": null,
   "id": "c450a73e",
   "metadata": {},
   "outputs": [],
   "source": []
  },
  {
   "cell_type": "code",
   "execution_count": null,
   "id": "4f2a1801",
   "metadata": {},
   "outputs": [],
   "source": []
  },
  {
   "cell_type": "code",
   "execution_count": null,
   "id": "69e25553",
   "metadata": {},
   "outputs": [],
   "source": []
  }
 ],
 "metadata": {
  "kernelspec": {
   "display_name": "conda_python3",
   "language": "python",
   "name": "conda_python3"
  },
  "language_info": {
   "codemirror_mode": {
    "name": "ipython",
    "version": 3
   },
   "file_extension": ".py",
   "mimetype": "text/x-python",
   "name": "python",
   "nbconvert_exporter": "python",
   "pygments_lexer": "ipython3",
   "version": "3.6.13"
  }
 },
 "nbformat": 4,
 "nbformat_minor": 5
}
