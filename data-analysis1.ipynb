{
 "cells": [
  {
   "cell_type": "code",
   "execution_count": 303,
   "id": "16ca3fb1",
   "metadata": {},
   "outputs": [],
   "source": [
    "# !pip install keras\n",
    "# !pip install tensorflow\n",
    "# !pip install xgboost"
   ]
  },
  {
   "cell_type": "code",
   "execution_count": 154,
   "id": "4ed55f03",
   "metadata": {},
   "outputs": [],
   "source": [
    "import pandas as pd\n",
    "import numpy as np\n",
    "from sklearn import preprocessing\n",
    "from sklearn.cluster import KMeans\n",
    "import matplotlib.pyplot as plt\n",
    "import xgboost as xgb\n",
    "from sklearn.metrics import accuracy_score\n",
    "import matplotlib.pyplot as plt\n",
    "from sklearn.preprocessing import OneHotEncoder"
   ]
  },
  {
   "cell_type": "code",
   "execution_count": null,
   "id": "2efb06d8",
   "metadata": {},
   "outputs": [],
   "source": [
    "xls = pd.ExcelFile('2 years data.xlsx',engine='openpyxl')\n",
    "df1 = pd.read_excel(xls, 'Planilha1')\n",
    "df2 = pd.read_excel(xls, 'Price increase dates')\n",
    "df3 = pd.read_excel(xls, 'Mandatory vacation dates',names=['start','end'])\n",
    "\n",
    "df1 = df1.iloc[:245815]\n",
    "df2.dropna(axis=1,inplace=True)\n",
    "df3.dropna(inplace=True)\n",
    "df3.drop([0],inplace=True)\n",
    "df1.drop(['Order nº','Custumer Name','Item Name','Subgroup_description'],axis=1,inplace=True)\n",
    "df2.drop(['Subgroup of products (description)'],axis=1,inplace=True)\n",
    "\n",
    "le = preprocessing.LabelEncoder()\n",
    "for col in ['Country','State','City']:\n",
    "    df1[col] = le.fit_transform(df1[[col]])\n",
    "df = df1.groupby(['Order date','Custumer Id','Item Id','Country','State','City','Subgruop_ID']).mean().reset_index()"
   ]
  },
  {
   "cell_type": "markdown",
   "id": "1905fcd5",
   "metadata": {},
   "source": [
    "## recency, frequency, price_increase_30, next_buy\n",
    "### is_vacation, vacation_30"
   ]
  },
  {
   "cell_type": "code",
   "execution_count": 142,
   "id": "4456ccdf",
   "metadata": {},
   "outputs": [],
   "source": [
    "def time_series_bin(right,col):\n",
    "\n",
    "    ret = pd.DataFrame(pd.date_range('2019-10-01','2021-09-13',freq='d'),columns=['Date'])\n",
    "    try:\n",
    "        new_data = pd.merge(ret,right,left_on='Date',right_on=col,how='outer')\n",
    "    except:\n",
    "        new_data = pd.concat(ret,right,axis=1,join=\"outer\",)\n",
    "    new_data['ret']= new_data[col].isna()==0\n",
    "    new_data['ret'].replace({True:1,False:0},inplace=True)\n",
    "    return new_data['ret']"
   ]
  },
  {
   "cell_type": "code",
   "execution_count": 145,
   "id": "c33088d9",
   "metadata": {},
   "outputs": [],
   "source": [
    "def recency(dfr,cusid):\n",
    "\n",
    "    t = time_series_bin(dfr.loc[dfr['Custumer Id']==cusid][['Order date']].drop_duplicates(),'Order date')\n",
    "    t = np.where(t.to_numpy()==1)[0]\n",
    "    t1 = [t[i]-t[i+1] for i in range(len(t)-1)]\n",
    "    tt = [0-t[0]]\n",
    "    [tt.append(i) for i in t1]\n",
    "    tt.append(t[-1]-713)\n",
    "\n",
    "    data = []\n",
    "    for rec in tt :\n",
    "        [data.append(_) for _ in range(abs(rec))]\n",
    "\n",
    "    return data"
   ]
  },
  {
   "cell_type": "code",
   "execution_count": 152,
   "id": "a64a7df6",
   "metadata": {},
   "outputs": [],
   "source": [
    "def buy_freq(dfr,cusid):\n",
    "    t = time_series_bin(dfr.loc[dfr['Custumer Id']==cusid][['Order date']].drop_duplicates(),'Order date')\n",
    "    ret = [0]\n",
    "    [ret.append(t[:i+1].mean()) for i in range(len(t)-1)]\n",
    "    \n",
    "    return ret"
   ]
  },
  {
   "cell_type": "code",
   "execution_count": null,
   "id": "d063593b",
   "metadata": {},
   "outputs": [],
   "source": [
    "def price_inc_30():\n",
    "    df2 = pd.read_excel(xls, 'Price increase dates')\n",
    "    df2.dropna(axis=1,inplace=True)\n",
    "    df2.drop(['Subgroup of products (description)'],axis=1,inplace=True)\n",
    "    df2 = pd.concat([df2[['Date of price increase']]\n",
    "                     ,pd.DataFrame.sparse.from_spmatrix((OneHotEncoder().fit_transform(df2.drop(['Date of price increase']\n",
    "                                                                                                ,axis=1))))\n",
    "                    ]\n",
    "                    ,axis=1)\n",
    "    df2 = df2.groupby(['Date of price increase']).sum()\n",
    "\n",
    "    x = pd.DataFrame(index=pd.date_range('2019-10-01','2021-09-13',freq='d'))\n",
    "    x = pd.concat([x,df2],join=\"outer\",axis=1,)\n",
    "    x.fillna(0,inplace=True)\n",
    "    return x"
   ]
  },
  {
   "cell_type": "code",
   "execution_count": null,
   "id": "c922298f",
   "metadata": {},
   "outputs": [],
   "source": [
    "def next_buy(dfr,cusid):\n",
    "    t = time_series_bin(dfr.loc[dfr['Custumer Id']==cusid][['Order date']].drop_duplicates(),'Order date')\n",
    "    t = np.where(t.to_numpy()==1)[0]\n",
    "    t1 = [t[i+1]-t[i] for i in range(len(t)-1)]\n",
    "    t2 = []\n",
    "    tt = [t[0]]\n",
    "    [tt.append(i) for i in t1]\n",
    "    tt.append(713-t[-1])\n",
    "    \n",
    "    for i in range(len(tt)-1):\n",
    "        for j in range(tt[i]):\n",
    "            t2.append(tt[i]-j-1)\n",
    "    \n",
    "    for i in range(713-len(t2)):\n",
    "        t2.append(90)\n",
    "    return(t2)"
   ]
  },
  {
   "cell_type": "code",
   "execution_count": null,
   "id": "aa78bb86",
   "metadata": {},
   "outputs": [],
   "source": [
    "def data_cus(cusid):\n",
    "    "
   ]
  },
  {
   "cell_type": "code",
   "execution_count": null,
   "id": "506cd704",
   "metadata": {},
   "outputs": [],
   "source": []
  },
  {
   "cell_type": "code",
   "execution_count": null,
   "id": "f46e6cd6",
   "metadata": {},
   "outputs": [],
   "source": []
  },
  {
   "cell_type": "code",
   "execution_count": null,
   "id": "d891cc0e",
   "metadata": {},
   "outputs": [],
   "source": []
  },
  {
   "cell_type": "code",
   "execution_count": null,
   "id": "57362dfe",
   "metadata": {},
   "outputs": [],
   "source": []
  },
  {
   "cell_type": "code",
   "execution_count": null,
   "id": "3c1acf63",
   "metadata": {},
   "outputs": [],
   "source": []
  },
  {
   "cell_type": "code",
   "execution_count": null,
   "id": "248e0ab8",
   "metadata": {},
   "outputs": [],
   "source": []
  },
  {
   "cell_type": "code",
   "execution_count": null,
   "id": "3db6116f",
   "metadata": {},
   "outputs": [],
   "source": []
  },
  {
   "cell_type": "code",
   "execution_count": null,
   "id": "7d2885b3",
   "metadata": {},
   "outputs": [],
   "source": []
  },
  {
   "cell_type": "code",
   "execution_count": null,
   "id": "75b05abf",
   "metadata": {},
   "outputs": [],
   "source": []
  },
  {
   "cell_type": "code",
   "execution_count": null,
   "id": "ae702336",
   "metadata": {},
   "outputs": [],
   "source": []
  },
  {
   "cell_type": "code",
   "execution_count": null,
   "id": "100a4a77",
   "metadata": {},
   "outputs": [],
   "source": []
  },
  {
   "cell_type": "code",
   "execution_count": null,
   "id": "86ca8afd",
   "metadata": {},
   "outputs": [],
   "source": []
  },
  {
   "cell_type": "code",
   "execution_count": null,
   "id": "2353db88",
   "metadata": {},
   "outputs": [],
   "source": []
  },
  {
   "cell_type": "code",
   "execution_count": null,
   "id": "7c723544",
   "metadata": {},
   "outputs": [],
   "source": []
  },
  {
   "cell_type": "code",
   "execution_count": null,
   "id": "b5f61d46",
   "metadata": {},
   "outputs": [],
   "source": []
  },
  {
   "cell_type": "code",
   "execution_count": null,
   "id": "39641f87",
   "metadata": {},
   "outputs": [],
   "source": []
  },
  {
   "cell_type": "code",
   "execution_count": null,
   "id": "7435dca6",
   "metadata": {},
   "outputs": [],
   "source": []
  },
  {
   "cell_type": "code",
   "execution_count": null,
   "id": "98250379",
   "metadata": {},
   "outputs": [],
   "source": []
  },
  {
   "cell_type": "code",
   "execution_count": null,
   "id": "2165982a",
   "metadata": {},
   "outputs": [],
   "source": []
  },
  {
   "cell_type": "code",
   "execution_count": null,
   "id": "4578a7af",
   "metadata": {},
   "outputs": [],
   "source": []
  },
  {
   "cell_type": "code",
   "execution_count": null,
   "id": "418ea53e",
   "metadata": {},
   "outputs": [],
   "source": []
  },
  {
   "cell_type": "code",
   "execution_count": null,
   "id": "8b8f364c",
   "metadata": {},
   "outputs": [],
   "source": []
  },
  {
   "cell_type": "code",
   "execution_count": null,
   "id": "e3364f7d",
   "metadata": {},
   "outputs": [],
   "source": []
  },
  {
   "cell_type": "code",
   "execution_count": null,
   "id": "7c01ced1",
   "metadata": {},
   "outputs": [],
   "source": []
  },
  {
   "cell_type": "code",
   "execution_count": null,
   "id": "4be29427",
   "metadata": {},
   "outputs": [],
   "source": []
  },
  {
   "cell_type": "code",
   "execution_count": null,
   "id": "4d8bf555",
   "metadata": {},
   "outputs": [],
   "source": []
  },
  {
   "cell_type": "code",
   "execution_count": null,
   "id": "72a6a1da",
   "metadata": {},
   "outputs": [],
   "source": []
  },
  {
   "cell_type": "code",
   "execution_count": null,
   "id": "7ecdacdb",
   "metadata": {},
   "outputs": [],
   "source": []
  },
  {
   "cell_type": "code",
   "execution_count": null,
   "id": "f8b0448f",
   "metadata": {},
   "outputs": [],
   "source": []
  },
  {
   "cell_type": "code",
   "execution_count": null,
   "id": "1c14ce88",
   "metadata": {},
   "outputs": [],
   "source": []
  },
  {
   "cell_type": "code",
   "execution_count": null,
   "id": "2e4f76ea",
   "metadata": {},
   "outputs": [],
   "source": []
  },
  {
   "cell_type": "code",
   "execution_count": null,
   "id": "eba39948",
   "metadata": {},
   "outputs": [],
   "source": []
  },
  {
   "cell_type": "code",
   "execution_count": null,
   "id": "8dda948e",
   "metadata": {},
   "outputs": [],
   "source": []
  },
  {
   "cell_type": "code",
   "execution_count": null,
   "id": "97cec8e1",
   "metadata": {},
   "outputs": [],
   "source": []
  },
  {
   "cell_type": "code",
   "execution_count": null,
   "id": "2912f97c",
   "metadata": {},
   "outputs": [],
   "source": []
  },
  {
   "cell_type": "code",
   "execution_count": null,
   "id": "cd5c1fdb",
   "metadata": {},
   "outputs": [],
   "source": []
  }
 ],
 "metadata": {
  "kernelspec": {
   "display_name": "conda_python3",
   "language": "python",
   "name": "conda_python3"
  },
  "language_info": {
   "codemirror_mode": {
    "name": "ipython",
    "version": 3
   },
   "file_extension": ".py",
   "mimetype": "text/x-python",
   "name": "python",
   "nbconvert_exporter": "python",
   "pygments_lexer": "ipython3",
   "version": "3.6.13"
  }
 },
 "nbformat": 4,
 "nbformat_minor": 5
}
