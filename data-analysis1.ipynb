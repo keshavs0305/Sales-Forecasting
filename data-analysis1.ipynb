{
 "cells": [
  {
   "cell_type": "code",
   "execution_count": 1,
   "id": "3a6ccdaa",
   "metadata": {},
   "outputs": [
    {
     "name": "stdout",
     "output_type": "stream",
     "text": [
      "Collecting xgboost\n",
      "  Downloading xgboost-1.4.2-py3-none-manylinux2010_x86_64.whl (166.7 MB)\n",
      "\u001b[K     |████████████████████████████████| 166.7 MB 12 kB/s /s eta 0:00:01\n",
      "\u001b[?25hRequirement already satisfied: scipy in /home/ec2-user/anaconda3/envs/python3/lib/python3.6/site-packages (from xgboost) (1.5.3)\n",
      "Requirement already satisfied: numpy in /home/ec2-user/anaconda3/envs/python3/lib/python3.6/site-packages (from xgboost) (1.19.5)\n",
      "Installing collected packages: xgboost\n",
      "Successfully installed xgboost-1.4.2\n"
     ]
    }
   ],
   "source": [
    "# !pip install keras\n",
    "# !pip install tensorflow\n",
    "!pip install xgboost"
   ]
  },
  {
   "cell_type": "code",
   "execution_count": 2,
   "id": "35d67526",
   "metadata": {},
   "outputs": [],
   "source": [
    "import pandas as pd\n",
    "import numpy as np\n",
    "from sklearn import preprocessing\n",
    "from sklearn.cluster import KMeans\n",
    "import matplotlib.pyplot as plt\n",
    "import xgboost as xgb\n",
    "from sklearn.metrics import accuracy_score\n",
    "from sklearn.metrics import mean_squared_error\n",
    "import matplotlib.pyplot as plt\n",
    "from sklearn.preprocessing import OneHotEncoder\n",
    "from sklearn.preprocessing import StandardScaler\n",
    "from sklearn.linear_model import LinearRegression\n",
    "from sklearn.ensemble import RandomForestRegressor\n",
    "from sklearn.svm import SVR\n",
    "from sklearn.neighbors import KNeighborsRegressor\n",
    "from sklearn.model_selection import GridSearchCV\n",
    "import warnings\n",
    "warnings.filterwarnings(\"ignore\")"
   ]
  },
  {
   "cell_type": "code",
   "execution_count": 3,
   "id": "cf579828",
   "metadata": {},
   "outputs": [],
   "source": [
    "xls = pd.ExcelFile('2 years data.xlsx',engine='openpyxl')\n",
    "df1 = pd.read_excel(xls, 'Planilha1')\n",
    "df2 = pd.read_excel(xls, 'Price increase dates')\n",
    "df3 = pd.read_excel(xls, 'Mandatory vacation dates',names=['start','end'])\n",
    "\n",
    "df1 = df1.iloc[:245815]\n",
    "df2.dropna(axis=1,inplace=True)\n",
    "df3.dropna(inplace=True)\n",
    "df3.drop([0],inplace=True)\n",
    "df1.drop(['Order nº','Custumer Name','Item Name','Subgroup_description'],axis=1,inplace=True)\n",
    "df2.drop(['Subgroup of products (description)'],axis=1,inplace=True)\n",
    "\n",
    "le = preprocessing.LabelEncoder()\n",
    "for col in ['Country','State','City']:\n",
    "    df1[col] = le.fit_transform(df1[[col]])\n",
    "df = df1.groupby(['Order date','Custumer Id','Item Id','Country','State','City','Subgruop_ID']).mean().reset_index()"
   ]
  },
  {
   "cell_type": "markdown",
   "id": "614c02dc",
   "metadata": {},
   "source": [
    "## recency, frequency, price_increase_30, next_buy\n",
    "### is_vacation, vacation_30"
   ]
  },
  {
   "cell_type": "code",
   "execution_count": 4,
   "id": "f984e0b2",
   "metadata": {},
   "outputs": [],
   "source": [
    "def time_series_bin(right,col):\n",
    "\n",
    "    ret = pd.DataFrame(pd.date_range('2019-10-01','2021-09-13',freq='d'),columns=['Date'])\n",
    "    try:\n",
    "        new_data = pd.merge(ret,right,left_on='Date',right_on=col,how='outer')\n",
    "    except:\n",
    "        new_data = pd.concat(ret,right,axis=1,join=\"outer\",)\n",
    "    new_data['ret']= new_data[col].isna()==0\n",
    "    new_data['ret'].replace({True:1,False:0},inplace=True)\n",
    "    return new_data['ret']"
   ]
  },
  {
   "cell_type": "code",
   "execution_count": 5,
   "id": "13ebfbfa",
   "metadata": {},
   "outputs": [],
   "source": [
    "def recency(dfr,cusid):\n",
    "\n",
    "    t = time_series_bin(dfr.loc[dfr['Custumer Id']==cusid][['Order date']].drop_duplicates(),'Order date')\n",
    "    t = np.where(t.to_numpy()==1)[0]\n",
    "    t1 = [t[i]-t[i+1] for i in range(len(t)-1)]\n",
    "    tt = [0-t[0]]\n",
    "    [tt.append(i) for i in t1]\n",
    "    tt.append(t[-1]-714)\n",
    "\n",
    "    data = []\n",
    "    for rec in tt :\n",
    "        [data.append(_) for _ in range(abs(rec))]\n",
    "\n",
    "    return data"
   ]
  },
  {
   "cell_type": "code",
   "execution_count": 6,
   "id": "346cc38d",
   "metadata": {},
   "outputs": [],
   "source": [
    "def buy_freq(dfr,cusid):\n",
    "    t = time_series_bin(dfr.loc[dfr['Custumer Id']==cusid][['Order date']].drop_duplicates(),'Order date')\n",
    "    ret = [0]\n",
    "    [ret.append(t[:i+1].mean()) for i in range(len(t)-1)]\n",
    "    \n",
    "    return ret"
   ]
  },
  {
   "cell_type": "code",
   "execution_count": 7,
   "id": "ac11d4b2",
   "metadata": {},
   "outputs": [],
   "source": [
    "def price_inc_30(df2):\n",
    "    df2 = pd.read_excel(xls, 'Price increase dates')\n",
    "    df2.dropna(axis=1,inplace=True)\n",
    "    df2.drop(['Subgroup of products (description)'],axis=1,inplace=True)\n",
    "    df2 = pd.concat([df2[['Date of price increase']]\n",
    "                     ,pd.DataFrame.sparse.from_spmatrix((OneHotEncoder().fit_transform(df2.drop(['Date of price increase']\n",
    "                                                                                                ,axis=1))))\n",
    "                    ]\n",
    "                    ,axis=1)\n",
    "    df2 = df2.groupby(['Date of price increase']).sum()\n",
    "\n",
    "    x = pd.DataFrame(index=pd.date_range('2019-10-01','2021-09-13',freq='d'))\n",
    "    x = pd.concat([x,df2],join=\"outer\",axis=1,)\n",
    "    x.fillna(0,inplace=True)\n",
    "    return x.reset_index().drop(['index'],axis=1)"
   ]
  },
  {
   "cell_type": "code",
   "execution_count": 8,
   "id": "ebc561f4",
   "metadata": {},
   "outputs": [],
   "source": [
    "def next_buy(dfr,cusid):\n",
    "    t = time_series_bin(dfr.loc[dfr['Custumer Id']==cusid][['Order date']].drop_duplicates(),'Order date')\n",
    "    t = np.where(t.to_numpy()==1)[0]\n",
    "    t1 = [t[i+1]-t[i] for i in range(len(t)-1)]\n",
    "    t2 = []\n",
    "    tt = [t[0]]\n",
    "    [tt.append(i) for i in t1]\n",
    "    tt.append(713-t[-1])\n",
    "    \n",
    "    for i in range(len(tt)-1):\n",
    "        for j in range(tt[i]):\n",
    "            t2.append(tt[i]-j-1)\n",
    "    \n",
    "    for i in range(714-len(t2)):\n",
    "        t2.append(90)\n",
    "    return(t2)"
   ]
  },
  {
   "cell_type": "code",
   "execution_count": 9,
   "id": "a703dd30",
   "metadata": {},
   "outputs": [],
   "source": [
    "def data_cus(df1,df2,cusid):\n",
    "    ret = pd.DataFrame()\n",
    "    ret['recency'] = recency(df1,cusid)\n",
    "    ret['buy_freq'] = buy_freq(df1,cusid)\n",
    "    for col in price_inc_30(df2).columns:\n",
    "        ret['price_inc_'+str(col)] = price_inc_30(df2)[col]\n",
    "    ret['next_buy'] = next_buy(df1,cusid)\n",
    "    return ret"
   ]
  },
  {
   "cell_type": "code",
   "execution_count": 10,
   "id": "92395c2c",
   "metadata": {},
   "outputs": [],
   "source": [
    "scale = StandardScaler()\n",
    "data = scale.fit_transform(data_cus(df,df2,750))"
   ]
  },
  {
   "cell_type": "code",
   "execution_count": 11,
   "id": "4870f1a8",
   "metadata": {},
   "outputs": [],
   "source": [
    "train, test = data[:600], data[600:]\n",
    "x_train, x_test, y_train, y_test = train[:,:-1], test[:,:-1], train[:,-1], test[:,-1]"
   ]
  },
  {
   "cell_type": "code",
   "execution_count": 12,
   "id": "449969d4",
   "metadata": {},
   "outputs": [
    {
     "data": {
      "text/plain": [
       "0.6321132533994073"
      ]
     },
     "execution_count": 12,
     "metadata": {},
     "output_type": "execute_result"
    }
   ],
   "source": [
    "model = SVR().fit(x_train, y_train)\n",
    "model.score(x_test, y_test)"
   ]
  },
  {
   "cell_type": "code",
   "execution_count": 13,
   "id": "61ff75fb",
   "metadata": {},
   "outputs": [
    {
     "data": {
      "text/plain": [
       "0.4857792889181487"
      ]
     },
     "execution_count": 13,
     "metadata": {},
     "output_type": "execute_result"
    }
   ],
   "source": [
    "mean_squared_error(model.predict(x_test),y_test)"
   ]
  },
  {
   "cell_type": "code",
   "execution_count": null,
   "id": "a7d376f7",
   "metadata": {},
   "outputs": [
    {
     "name": "stdout",
     "output_type": "stream",
     "text": [
      "Fitting 5 folds for each of 108 candidates, totalling 540 fits\n"
     ]
    }
   ],
   "source": [
    "param_grid = {\n",
    "    'C': [0.001, 0.01, 0.1],\n",
    "    'gamma': [10, 1, 0.1, 0.01],\n",
    "    'kernel': ['rbf', 'poly', 'sigmoid'],\n",
    "    'degree':[2, 3, 5],  \n",
    "}\n",
    "grid = GridSearchCV(SVR(), param_grid, refit=True, verbose=5, cv=5, scoring=mean_squared_error, n_jobs=10)\n",
    "grid.fit(x_train, y_train)"
   ]
  },
  {
   "cell_type": "code",
   "execution_count": null,
   "id": "4512e5b8",
   "metadata": {},
   "outputs": [],
   "source": [
    "print(grid.best_estimator_)"
   ]
  },
  {
   "cell_type": "code",
   "execution_count": null,
   "id": "307e1377",
   "metadata": {},
   "outputs": [],
   "source": [
    "grid_predictions = grid.predict(x_test)"
   ]
  },
  {
   "cell_type": "code",
   "execution_count": null,
   "id": "96902220",
   "metadata": {},
   "outputs": [],
   "source": [
    "mean_squared_error(grid_predictions,y_test)"
   ]
  },
  {
   "cell_type": "code",
   "execution_count": null,
   "id": "b96e206e",
   "metadata": {},
   "outputs": [],
   "source": [
    "grid.score(x_test,y_test)"
   ]
  },
  {
   "cell_type": "code",
   "execution_count": null,
   "id": "c074e7dd",
   "metadata": {},
   "outputs": [],
   "source": []
  },
  {
   "cell_type": "code",
   "execution_count": null,
   "id": "92fefecb",
   "metadata": {},
   "outputs": [],
   "source": []
  },
  {
   "cell_type": "code",
   "execution_count": null,
   "id": "c82377d8",
   "metadata": {},
   "outputs": [],
   "source": []
  },
  {
   "cell_type": "code",
   "execution_count": null,
   "id": "838b7b88",
   "metadata": {},
   "outputs": [],
   "source": []
  },
  {
   "cell_type": "code",
   "execution_count": null,
   "id": "db9a465a",
   "metadata": {},
   "outputs": [],
   "source": []
  },
  {
   "cell_type": "code",
   "execution_count": null,
   "id": "6f2c94ce",
   "metadata": {},
   "outputs": [],
   "source": []
  },
  {
   "cell_type": "code",
   "execution_count": null,
   "id": "8f3718b6",
   "metadata": {},
   "outputs": [],
   "source": []
  },
  {
   "cell_type": "code",
   "execution_count": null,
   "id": "e9a28925",
   "metadata": {},
   "outputs": [],
   "source": []
  },
  {
   "cell_type": "code",
   "execution_count": null,
   "id": "25c78f92",
   "metadata": {},
   "outputs": [],
   "source": []
  },
  {
   "cell_type": "code",
   "execution_count": null,
   "id": "1a8604c9",
   "metadata": {},
   "outputs": [],
   "source": []
  },
  {
   "cell_type": "code",
   "execution_count": null,
   "id": "7a3ee8c9",
   "metadata": {},
   "outputs": [],
   "source": []
  },
  {
   "cell_type": "code",
   "execution_count": null,
   "id": "c84c5ef5",
   "metadata": {},
   "outputs": [],
   "source": []
  },
  {
   "cell_type": "code",
   "execution_count": null,
   "id": "2d697632",
   "metadata": {},
   "outputs": [],
   "source": []
  },
  {
   "cell_type": "code",
   "execution_count": null,
   "id": "1d61a219",
   "metadata": {},
   "outputs": [],
   "source": []
  }
 ],
 "metadata": {
  "kernelspec": {
   "display_name": "conda_python3",
   "language": "python",
   "name": "conda_python3"
  },
  "language_info": {
   "codemirror_mode": {
    "name": "ipython",
    "version": 3
   },
   "file_extension": ".py",
   "mimetype": "text/x-python",
   "name": "python",
   "nbconvert_exporter": "python",
   "pygments_lexer": "ipython3",
   "version": "3.6.13"
  }
 },
 "nbformat": 4,
 "nbformat_minor": 5
}
